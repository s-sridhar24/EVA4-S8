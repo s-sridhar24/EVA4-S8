{
  "nbformat": 4,
  "nbformat_minor": 0,
  "metadata": {
    "colab": {
      "name": "s8_main_v2.ipynb",
      "provenance": [],
      "collapsed_sections": [],
      "authorship_tag": "ABX9TyMwdlpyo7ujKbM7tjEpFu7d",
      "include_colab_link": true
    },
    "kernelspec": {
      "name": "python3",
      "display_name": "Python 3"
    },
    "accelerator": "GPU"
  },
  "cells": [
    {
      "cell_type": "markdown",
      "metadata": {
        "id": "view-in-github",
        "colab_type": "text"
      },
      "source": [
        "<a href=\"https://colab.research.google.com/github/s-sridhar24/EVA4-S8/blob/master/s8_main_v2.ipynb\" target=\"_parent\"><img src=\"https://colab.research.google.com/assets/colab-badge.svg\" alt=\"Open In Colab\"/></a>"
      ]
    },
    {
      "cell_type": "code",
      "metadata": {
        "id": "iLiX-jDPaGQA",
        "colab_type": "code",
        "colab": {}
      },
      "source": [
        "from google.colab import drive"
      ],
      "execution_count": 0,
      "outputs": []
    },
    {
      "cell_type": "code",
      "metadata": {
        "id": "xtd03nS6-56c",
        "colab_type": "code",
        "outputId": "44069549-1218-4255-a384-53ea314384fe",
        "colab": {
          "base_uri": "https://localhost:8080/",
          "height": 35
        }
      },
      "source": [
        "drive.mount('/content/content', force_remount=True)"
      ],
      "execution_count": 2,
      "outputs": [
        {
          "output_type": "stream",
          "text": [
            "Mounted at /content/content\n"
          ],
          "name": "stdout"
        }
      ]
    },
    {
      "cell_type": "code",
      "metadata": {
        "id": "Kz-22wgBfy1M",
        "colab_type": "code",
        "colab": {}
      },
      "source": [
        "# os.listdir()\n",
        "# os.listdir('/content')\n",
        "#os.listdir('/content/content/')\n",
        "#os.listdir('/content/content/My Drive')\n",
        "#os.listdir('/content/content/My Drive/EVA')\n",
        "#os.listdir('/content/content/My Drive/EVA/Session 7')"
      ],
      "execution_count": 0,
      "outputs": []
    },
    {
      "cell_type": "code",
      "metadata": {
        "id": "PZaQfKMyb07-",
        "colab_type": "code",
        "outputId": "d4e42b88-8cc7-4074-eb6f-7ca0ae028eaf",
        "colab": {
          "base_uri": "https://localhost:8080/",
          "height": 35
        }
      },
      "source": [
        "my_path = \"/content/content/My Drive/EVA/Session 8\"\n",
        "import os\n",
        "os.chdir(my_path)\n",
        "os.getcwd()"
      ],
      "execution_count": 4,
      "outputs": [
        {
          "output_type": "execute_result",
          "data": {
            "text/plain": [
              "'/content/content/My Drive/EVA/Session 8'"
            ]
          },
          "metadata": {
            "tags": []
          },
          "execution_count": 4
        }
      ]
    },
    {
      "cell_type": "code",
      "metadata": {
        "id": "imlxgHxnjESZ",
        "colab_type": "code",
        "outputId": "24819545-4fca-4cab-8d39-a4f122e43769",
        "colab": {
          "base_uri": "https://localhost:8080/",
          "height": 35
        }
      },
      "source": [
        "import torch\n",
        "import torch.nn as nn\n",
        "import torch.nn.functional as F\n",
        "!pip install torchsummary\n",
        "from torchsummary import summary"
      ],
      "execution_count": 5,
      "outputs": [
        {
          "output_type": "stream",
          "text": [
            "Requirement already satisfied: torchsummary in /usr/local/lib/python3.6/dist-packages (1.5.1)\n"
          ],
          "name": "stdout"
        }
      ]
    },
    {
      "cell_type": "code",
      "metadata": {
        "id": "NTTx5vLAA82K",
        "colab_type": "code",
        "outputId": "19cb261b-0934-427a-9b42-777c7f1e565a",
        "colab": {
          "base_uri": "https://localhost:8080/",
          "height": 35
        }
      },
      "source": [
        "use_cuda = torch.cuda.is_available()\n",
        "device = torch.device(\"cuda\" if use_cuda else \"cpu\")\n",
        "device"
      ],
      "execution_count": 6,
      "outputs": [
        {
          "output_type": "execute_result",
          "data": {
            "text/plain": [
              "device(type='cuda')"
            ]
          },
          "metadata": {
            "tags": []
          },
          "execution_count": 6
        }
      ]
    },
    {
      "cell_type": "code",
      "metadata": {
        "id": "itBZPi1HcaMF",
        "colab_type": "code",
        "colab": {}
      },
      "source": [
        "#import fetch_data_step\n",
        "#trainset, trainloader, testset, testloader, classes = fetch_data_step.fetch_data_step()"
      ],
      "execution_count": 0,
      "outputs": []
    },
    {
      "cell_type": "code",
      "metadata": {
        "id": "hAEuT422HNVp",
        "colab_type": "code",
        "colab": {
          "base_uri": "https://localhost:8080/",
          "height": 53
        },
        "outputId": "6602894b-a443-43ac-988d-882f241deee5"
      },
      "source": [
        "import torch\n",
        "import torchvision\n",
        "import torchvision.transforms as transforms\n",
        "\n",
        "train_batch_size=4\n",
        "test_batch_size=4\n",
        "\"\"\"The output of torchvision datasets are PILImage images of range [0, 1].\n",
        "We transform them to Tensors of normalized range [-1, 1].\n",
        "\"\"\"\n",
        "\n",
        "train_transform = transforms.Compose(\n",
        "    [\n",
        "#     transforms.RandomHorizontalFlip(),\n",
        "     transforms.ToTensor(),\n",
        "      transforms.Normalize((0.5, 0.5, 0.5), (0.5, 0.5, 0.5))])\n",
        "\n",
        "test_transform = transforms.Compose(\n",
        "    [transforms.ToTensor(),\n",
        "      transforms.Normalize((0.5, 0.5, 0.5), (0.5, 0.5, 0.5))])\n",
        "\n",
        "trainset = torchvision.datasets.CIFAR10(root='./data', train=True,\n",
        "                                        download=True, transform=train_transform)\n",
        "trainloader = torch.utils.data.DataLoader(trainset, batch_size=train_batch_size,\n",
        "                                          shuffle=True, num_workers=2)\n",
        "\n",
        "testset = torchvision.datasets.CIFAR10(root='./data', train=False,\n",
        "                                        download=True, transform=test_transform)\n",
        "testloader = torch.utils.data.DataLoader(testset, batch_size=test_batch_size,\n",
        "                                          shuffle=False, num_workers=2)\n",
        "\n",
        "classes = ('plane', 'car', 'bird', 'cat',\n",
        "            'deer', 'dog', 'frog', 'horse', 'ship', 'truck')\n"
      ],
      "execution_count": 8,
      "outputs": [
        {
          "output_type": "stream",
          "text": [
            "Files already downloaded and verified\n",
            "Files already downloaded and verified\n"
          ],
          "name": "stdout"
        }
      ]
    },
    {
      "cell_type": "code",
      "metadata": {
        "id": "j1hAndsCgiLp",
        "colab_type": "code",
        "colab": {}
      },
      "source": [
        "import resnet\n",
        "net = resnet.ResNet18()"
      ],
      "execution_count": 0,
      "outputs": []
    },
    {
      "cell_type": "code",
      "metadata": {
        "id": "XADLtyXDlX-A",
        "colab_type": "code",
        "outputId": "af4e094c-8693-424c-b195-c51423804289",
        "colab": {
          "base_uri": "https://localhost:8080/",
          "height": 1000
        }
      },
      "source": [
        "net = net.to(device)\n",
        "print(summary(net, input_size=(3, 32, 32)))"
      ],
      "execution_count": 10,
      "outputs": [
        {
          "output_type": "stream",
          "text": [
            "----------------------------------------------------------------\n",
            "        Layer (type)               Output Shape         Param #\n",
            "================================================================\n",
            "            Conv2d-1           [-1, 64, 32, 32]           1,728\n",
            "       BatchNorm2d-2           [-1, 64, 32, 32]             128\n",
            "            Conv2d-3           [-1, 64, 32, 32]          36,864\n",
            "       BatchNorm2d-4           [-1, 64, 32, 32]             128\n",
            "            Conv2d-5           [-1, 64, 32, 32]          36,864\n",
            "       BatchNorm2d-6           [-1, 64, 32, 32]             128\n",
            "        BasicBlock-7           [-1, 64, 32, 32]               0\n",
            "            Conv2d-8           [-1, 64, 32, 32]          36,864\n",
            "       BatchNorm2d-9           [-1, 64, 32, 32]             128\n",
            "           Conv2d-10           [-1, 64, 32, 32]          36,864\n",
            "      BatchNorm2d-11           [-1, 64, 32, 32]             128\n",
            "       BasicBlock-12           [-1, 64, 32, 32]               0\n",
            "           Conv2d-13          [-1, 128, 16, 16]          73,728\n",
            "      BatchNorm2d-14          [-1, 128, 16, 16]             256\n",
            "           Conv2d-15          [-1, 128, 16, 16]         147,456\n",
            "      BatchNorm2d-16          [-1, 128, 16, 16]             256\n",
            "           Conv2d-17          [-1, 128, 16, 16]           8,192\n",
            "      BatchNorm2d-18          [-1, 128, 16, 16]             256\n",
            "       BasicBlock-19          [-1, 128, 16, 16]               0\n",
            "           Conv2d-20          [-1, 128, 16, 16]         147,456\n",
            "      BatchNorm2d-21          [-1, 128, 16, 16]             256\n",
            "           Conv2d-22          [-1, 128, 16, 16]         147,456\n",
            "      BatchNorm2d-23          [-1, 128, 16, 16]             256\n",
            "       BasicBlock-24          [-1, 128, 16, 16]               0\n",
            "           Conv2d-25            [-1, 256, 8, 8]         294,912\n",
            "      BatchNorm2d-26            [-1, 256, 8, 8]             512\n",
            "           Conv2d-27            [-1, 256, 8, 8]         589,824\n",
            "      BatchNorm2d-28            [-1, 256, 8, 8]             512\n",
            "           Conv2d-29            [-1, 256, 8, 8]          32,768\n",
            "      BatchNorm2d-30            [-1, 256, 8, 8]             512\n",
            "       BasicBlock-31            [-1, 256, 8, 8]               0\n",
            "           Conv2d-32            [-1, 256, 8, 8]         589,824\n",
            "      BatchNorm2d-33            [-1, 256, 8, 8]             512\n",
            "           Conv2d-34            [-1, 256, 8, 8]         589,824\n",
            "      BatchNorm2d-35            [-1, 256, 8, 8]             512\n",
            "       BasicBlock-36            [-1, 256, 8, 8]               0\n",
            "           Conv2d-37            [-1, 512, 4, 4]       1,179,648\n",
            "      BatchNorm2d-38            [-1, 512, 4, 4]           1,024\n",
            "           Conv2d-39            [-1, 512, 4, 4]       2,359,296\n",
            "      BatchNorm2d-40            [-1, 512, 4, 4]           1,024\n",
            "           Conv2d-41            [-1, 512, 4, 4]         131,072\n",
            "      BatchNorm2d-42            [-1, 512, 4, 4]           1,024\n",
            "       BasicBlock-43            [-1, 512, 4, 4]               0\n",
            "           Conv2d-44            [-1, 512, 4, 4]       2,359,296\n",
            "      BatchNorm2d-45            [-1, 512, 4, 4]           1,024\n",
            "           Conv2d-46            [-1, 512, 4, 4]       2,359,296\n",
            "      BatchNorm2d-47            [-1, 512, 4, 4]           1,024\n",
            "       BasicBlock-48            [-1, 512, 4, 4]               0\n",
            "           Linear-49                   [-1, 10]           5,130\n",
            "================================================================\n",
            "Total params: 11,173,962\n",
            "Trainable params: 11,173,962\n",
            "Non-trainable params: 0\n",
            "----------------------------------------------------------------\n",
            "Input size (MB): 0.01\n",
            "Forward/backward pass size (MB): 11.25\n",
            "Params size (MB): 42.63\n",
            "Estimated Total Size (MB): 53.89\n",
            "----------------------------------------------------------------\n",
            "None\n"
          ],
          "name": "stdout"
        }
      ]
    },
    {
      "cell_type": "code",
      "metadata": {
        "id": "t-afSUe5hfAp",
        "colab_type": "code",
        "colab": {}
      },
      "source": [
        "from torch.optim.lr_scheduler import StepLR\n",
        "import torch.optim as optim\n",
        "criterion = nn.CrossEntropyLoss()\n",
        "optimizer = optim.SGD(net.parameters(), lr=0.001, momentum=0.9)\n",
        "scheduler = StepLR(optimizer, step_size=3, gamma=0.1)"
      ],
      "execution_count": 0,
      "outputs": []
    },
    {
      "cell_type": "code",
      "metadata": {
        "id": "S1IExxVPPXMF",
        "colab_type": "code",
        "outputId": "97c0eded-ffa6-4543-ea81-90cba411abfc",
        "colab": {
          "base_uri": "https://localhost:8080/",
          "height": 1000
        }
      },
      "source": [
        "import train_net\n",
        "\n",
        "for epoch in range(15):  # loop over the dataset multiple times\n",
        "  #scheduler.step()\n",
        "  print('Epoch:', epoch,'LR:', scheduler.get_lr())\n",
        "  train_net.train_net(epoch, device, net, trainloader, optimizer, criterion, train_batch_size)\n",
        "  \n",
        "print('Finished Training')"
      ],
      "execution_count": 15,
      "outputs": [
        {
          "output_type": "stream",
          "text": [
            "Epoch: 0 LR: [0.001]\n",
            "[1,  2000] loss: 0.041\n",
            "[1,  4000] loss: 0.046\n",
            "[1,  6000] loss: 0.037\n",
            "[1,  8000] loss: 0.048\n",
            "[1, 10000] loss: 0.052\n",
            "[1, 12000] loss: 0.057\n",
            "Epoch: 1 LR: [0.001]\n",
            "[2,  2000] loss: 0.030\n",
            "[2,  4000] loss: 0.020\n",
            "[2,  6000] loss: 0.036\n",
            "[2,  8000] loss: 0.036\n",
            "[2, 10000] loss: 0.038\n",
            "[2, 12000] loss: 0.039\n",
            "Epoch: 2 LR: [0.001]\n",
            "[3,  2000] loss: 0.022\n",
            "[3,  4000] loss: 0.018\n",
            "[3,  6000] loss: 0.024\n",
            "[3,  8000] loss: 0.025\n",
            "[3, 10000] loss: 0.038\n",
            "[3, 12000] loss: 0.033\n",
            "Epoch: 3 LR: [0.001]\n",
            "[4,  2000] loss: 0.016\n",
            "[4,  4000] loss: 0.018\n",
            "[4,  6000] loss: 0.020\n",
            "[4,  8000] loss: 0.019\n",
            "[4, 10000] loss: 0.015\n",
            "[4, 12000] loss: 0.027\n",
            "Epoch: 4 LR: [0.001]\n",
            "[5,  2000] loss: 0.014\n",
            "[5,  4000] loss: 0.012\n",
            "[5,  6000] loss: 0.014\n",
            "[5,  8000] loss: 0.015\n",
            "[5, 10000] loss: 0.020\n",
            "[5, 12000] loss: 0.013\n",
            "Epoch: 5 LR: [0.001]\n",
            "[6,  2000] loss: 0.008\n",
            "[6,  4000] loss: 0.010\n",
            "[6,  6000] loss: 0.013\n",
            "[6,  8000] loss: 0.021\n",
            "[6, 10000] loss: 0.015\n",
            "[6, 12000] loss: 0.011\n",
            "Epoch: 6 LR: [0.001]\n",
            "[7,  2000] loss: 0.015\n",
            "[7,  4000] loss: 0.013\n",
            "[7,  6000] loss: 0.009\n",
            "[7,  8000] loss: 0.014\n",
            "[7, 10000] loss: 0.014\n",
            "[7, 12000] loss: 0.011\n",
            "Epoch: 7 LR: [0.001]\n",
            "[8,  2000] loss: 0.007\n",
            "[8,  4000] loss: 0.004\n",
            "[8,  6000] loss: 0.005\n",
            "[8,  8000] loss: 0.005\n",
            "[8, 10000] loss: 0.005\n",
            "[8, 12000] loss: 0.005\n",
            "Epoch: 8 LR: [0.001]\n",
            "[9,  2000] loss: 0.004\n",
            "[9,  4000] loss: 0.003\n",
            "[9,  6000] loss: 0.004\n",
            "[9,  8000] loss: 0.006\n",
            "[9, 10000] loss: 0.005\n",
            "[9, 12000] loss: 0.006\n",
            "Epoch: 9 LR: [0.001]\n",
            "[10,  2000] loss: 0.005\n",
            "[10,  4000] loss: 0.008\n",
            "[10,  6000] loss: 0.006\n",
            "[10,  8000] loss: 0.005\n",
            "[10, 10000] loss: 0.004\n",
            "[10, 12000] loss: 0.008\n",
            "Epoch: 10 LR: [0.001]\n",
            "[11,  2000] loss: 0.005\n",
            "[11,  4000] loss: 0.006\n",
            "[11,  6000] loss: 0.003\n",
            "[11,  8000] loss: 0.005\n",
            "[11, 10000] loss: 0.007\n",
            "[11, 12000] loss: 0.005\n",
            "Epoch: 11 LR: [0.001]\n",
            "[12,  2000] loss: 0.002\n",
            "[12,  4000] loss: 0.004\n",
            "[12,  6000] loss: 0.004\n",
            "[12,  8000] loss: 0.002\n",
            "[12, 10000] loss: 0.003\n",
            "[12, 12000] loss: 0.003\n",
            "Epoch: 12 LR: [0.001]\n",
            "[13,  2000] loss: 0.002\n",
            "[13,  4000] loss: 0.002\n",
            "[13,  6000] loss: 0.003\n",
            "[13,  8000] loss: 0.002\n",
            "[13, 10000] loss: 0.002\n",
            "[13, 12000] loss: 0.002\n",
            "Epoch: 13 LR: [0.001]\n",
            "[14,  2000] loss: 0.001\n",
            "[14,  4000] loss: 0.003\n",
            "[14,  6000] loss: 0.002\n",
            "[14,  8000] loss: 0.002\n",
            "[14, 10000] loss: 0.003\n",
            "[14, 12000] loss: 0.001\n",
            "Epoch: 14 LR: [0.001]\n",
            "[15,  2000] loss: 0.001\n",
            "[15,  4000] loss: 0.002\n",
            "[15,  6000] loss: 0.001\n",
            "[15,  8000] loss: 0.002\n",
            "[15, 10000] loss: 0.003\n",
            "[15, 12000] loss: 0.004\n",
            "Finished Training\n"
          ],
          "name": "stdout"
        }
      ]
    },
    {
      "cell_type": "code",
      "metadata": {
        "id": "XE1ei2VEWP3v",
        "colab_type": "code",
        "colab": {
          "base_uri": "https://localhost:8080/",
          "height": 35
        },
        "outputId": "ce2094eb-0414-41bb-b331-4e17fa4efd87"
      },
      "source": [
        "import test_net\n",
        "test_net.test_net(net, device, testloader)"
      ],
      "execution_count": 16,
      "outputs": [
        {
          "output_type": "stream",
          "text": [
            "Accuracy of the network on the 10000 test images: 84 %\n"
          ],
          "name": "stdout"
        }
      ]
    },
    {
      "cell_type": "code",
      "metadata": {
        "id": "aUA8R-6PeYsR",
        "colab_type": "code",
        "colab": {
          "base_uri": "https://localhost:8080/",
          "height": 196
        },
        "outputId": "d6738d7f-7ec2-401e-aca0-4ec9f97270c1"
      },
      "source": [
        "import class_acc\n",
        "class_acc.class_acc(testloader, net, device, classes)"
      ],
      "execution_count": 17,
      "outputs": [
        {
          "output_type": "stream",
          "text": [
            "Accuracy of plane : 87 %\n",
            "Accuracy of   car : 92 %\n",
            "Accuracy of  bird : 77 %\n",
            "Accuracy of   cat : 66 %\n",
            "Accuracy of  deer : 84 %\n",
            "Accuracy of   dog : 81 %\n",
            "Accuracy of  frog : 88 %\n",
            "Accuracy of horse : 88 %\n",
            "Accuracy of  ship : 91 %\n",
            "Accuracy of truck : 91 %\n"
          ],
          "name": "stdout"
        }
      ]
    },
    {
      "cell_type": "code",
      "metadata": {
        "id": "A_p8qi4BE-EW",
        "colab_type": "code",
        "colab": {}
      },
      "source": [
        ""
      ],
      "execution_count": 0,
      "outputs": []
    }
  ]
}